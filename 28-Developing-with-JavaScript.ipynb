{
 "cells": [
  {
   "cell_type": "code",
   "execution_count": null,
   "metadata": {},
   "outputs": [],
   "source": [
    "#Javascript-code"
   ]
  },
  {
   "cell_type": "code",
   "execution_count": null,
   "metadata": {},
   "outputs": [],
   "source": [
    "xrange = Range1d(start=-0.5, end=20.5)\n",
    "\n",
    "var xrange = new Bokeh.Range1d({ start: -0.5, end: 20.5 });\n",
    "\n",
    "<head>\n",
    "<script type=\"text/javascript\" src=\"https://cdn.pydata.org/bokeh/release/bokeh-1.3.4.min.js\"></script>\n",
    "<script type=\"text/javascript\" src=\"https://cdn.pydata.org/bokeh/release/bokeh-widgets-1.3.4.min.js\"></script>\n",
    "<script type=\"text/javascript\" src=\"https://cdn.pydata.org/bokeh/release/bokeh-tables-1.3.4.min.js\"></script>\n",
    "<script type=\"text/javascript\" src=\"https://cdn.pydata.org/bokeh/release/bokeh-gl-1.3.4.min.js\"></script>\n",
    "<script type=\"text/javascript\" src=\"https://cdn.pydata.org/bokeh/release/bokeh-api-1.3.4.min.js\"></script>\n",
    "<script type=\"text/javascript\" src=\"https://cdn.pydata.org/bokeh/release/bokeh-api-1.3.4.min.js\"></script>\n",
    "</head>\n",
    "\n",
    "<script>\n",
    "\n",
    "// create some data and a ColumnDataSource\n",
    "\n",
    "var x = Bokeh.LinAlg.linspace(-0.5, 20.5, 10);\n",
    "var y = x.map(function (v) { return v * 0.5 + 3.0; });\n",
    "var source = new Bokeh.ColumnDataSource({ data: { x: x, y: y } });\n",
    "\n",
    "// make the plot\n",
    "\n",
    "var plot = new Bokeh.Plot({\n",
    "    title: \"BokehJS Plot\",\n",
    "    plot_width: 400,\n",
    "    plot_height: 400\n",
    "});\n",
    "\n",
    "// add axes to the plot\n",
    "\n",
    "var xaxis = new Bokeh.LinearAxis({ axis_line_color: null });\n",
    "var yaxis = new Bokeh.LinearAxis({ axis_line_color: null });\n",
    "\n",
    "plot.add_layout(xaxis, \"below\");\n",
    "plot.add_layout(yaxis, \"left\");\n",
    "\n",
    "// add a Line glyph\n",
    "\n",
    "var line = new Bokeh.Line({\n",
    "    x: { field: \"x\" },\n",
    "    y: { field: \"y\" },\n",
    "    line_color: \"#666699\",\n",
    "    line_width: 2\n",
    "});\n",
    "\n",
    "plot.add_glyph(line, source);\n",
    "Bokeh.Plotting.show(plot);\n",
    "\n",
    "</script>"
   ]
  },
  {
   "cell_type": "markdown",
   "metadata": {},
   "source": [
    "### End."
   ]
  }
 ],
 "metadata": {
  "kernelspec": {
   "display_name": "Python 3.10.5 64-bit",
   "language": "python",
   "name": "python3"
  },
  "language_info": {
   "codemirror_mode": {
    "name": "ipython",
    "version": 3
   },
   "file_extension": ".py",
   "mimetype": "text/x-python",
   "name": "python",
   "nbconvert_exporter": "python",
   "pygments_lexer": "ipython3",
   "version": "3.10.5"
  },
  "orig_nbformat": 4,
  "vscode": {
   "interpreter": {
    "hash": "74af3d2f25f1e46ebd2903d59225d79e4675ec224d56c01fc30cd168c2010d53"
   }
  }
 },
 "nbformat": 4,
 "nbformat_minor": 2
}
