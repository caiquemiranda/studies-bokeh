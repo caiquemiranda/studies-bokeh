{
 "cells": [
  {
   "cell_type": "markdown",
   "metadata": {},
   "source": [
    "### Button"
   ]
  },
  {
   "cell_type": "code",
   "execution_count": null,
   "metadata": {},
   "outputs": [],
   "source": [
    "Button(label, icon, callback)"
   ]
  },
  {
   "cell_type": "code",
   "execution_count": null,
   "metadata": {},
   "outputs": [],
   "source": [
    "from bokeh.layouts import column\n",
    "from bokeh.models import CustomJS, ColumnDataSource\n",
    "from bokeh.plotting import Figure, output_file, show\n",
    "from bokeh.models.widgets import Button\n",
    "\n",
    "x = [x*0.05 for x in range(0, 200)]\n",
    "y = x\n",
    "\n",
    "source = ColumnDataSource(data=dict(x=x, y=y))\n",
    "\n",
    "plot = Figure(plot_width=400, plot_height=400)\n",
    "plot.line('x', 'y', source=source, line_width=3, line_alpha=0.6)\n",
    "\n",
    "callback = CustomJS(args=dict(source=source), code=\"\"\"\n",
    "                    var data = source.data;\n",
    "                    x = data['x']\n",
    "                    y = data['y']\n",
    "                    for (i = 0; i < x.length; i++) {\n",
    "                        y[i] = Math.pow(x[i], 4)\n",
    "                        }\n",
    "                        source.change.emit();\n",
    "                        \"\"\")\n",
    "\n",
    "btn = Button(label=\"click here\", callback=callback, name=\"1\")\n",
    "layout = column(btn , plot)\n",
    "\n",
    "show(layout)"
   ]
  },
  {
   "cell_type": "markdown",
   "metadata": {},
   "source": [
    "### Slider"
   ]
  },
  {
   "cell_type": "code",
   "execution_count": null,
   "metadata": {},
   "outputs": [],
   "source": [
    "Slider(start, end, step, value)"
   ]
  },
  {
   "cell_type": "code",
   "execution_count": null,
   "metadata": {},
   "outputs": [],
   "source": [
    "from bokeh.layouts import column\n",
    "from bokeh.models import CustomJS, ColumnDataSource\n",
    "from bokeh.plotting import Figure, output_file, show\n",
    "from bokeh.models.widgets import Slider\n",
    "\n",
    "x = [x*0.05 for x in range(0, 200)]\n",
    "y = x\n",
    "\n",
    "source = ColumnDataSource(data=dict(x=x, y=y))\n",
    "\n",
    "plot = Figure(plot_width=400, plot_height=400)\n",
    "plot.line('x', 'y', source=source, line_width=3, line_alpha=0.6)\n",
    "\n",
    "handler = CustomJS(args=dict(source=source), code=\"\"\"\n",
    "                   var data = source.data;\n",
    "                   var f = cb_obj.value\n",
    "                   var x = data['x']\n",
    "                   var y = data['y']\n",
    "                   for (var i = 0; i < x.length; i++) {\n",
    "                       y[i] = Math.pow(x[i], f)\n",
    "                       }\n",
    "                       source.change.emit();\n",
    "                       \"\"\")\n",
    "\n",
    "slider = Slider(start=0.0, end=5, value=1, step=.25, title=\"Slider Value\")\n",
    "slider.js_on_change('value', handler)\n",
    "\n",
    "layout = column(slider, plot)\n",
    "\n",
    "show(layout)"
   ]
  },
  {
   "cell_type": "markdown",
   "metadata": {},
   "source": [
    "### RadioGroup"
   ]
  },
  {
   "cell_type": "code",
   "execution_count": null,
   "metadata": {},
   "outputs": [],
   "source": [
    "RadioGroup(labels, active)"
   ]
  },
  {
   "cell_type": "markdown",
   "metadata": {},
   "source": [
    "### Select"
   ]
  },
  {
   "cell_type": "code",
   "execution_count": null,
   "metadata": {},
   "outputs": [],
   "source": [
    "Select(options, value)"
   ]
  },
  {
   "cell_type": "code",
   "execution_count": null,
   "metadata": {},
   "outputs": [],
   "source": [
    "from bokeh.layouts import column\n",
    "from bokeh.models import CustomJS, ColumnDataSource\n",
    "from bokeh.plotting import Figure, output_file, show\n",
    "from bokeh.models.widgets import RadioGroup, Select\n",
    "\n",
    "x = [x*0.05 for x in range(0, 200)]\n",
    "y = x\n",
    "\n",
    "source = ColumnDataSource(data=dict(x=x, y=y))\n",
    "\n",
    "plot = Figure(plot_width=400, plot_height=400)\n",
    "plot.line('x', 'y', source=source, line_width=3, line_alpha=0.6)\n",
    "\n",
    "radiohandler = CustomJS(args=dict(source=source), code=\"\"\"\n",
    "                        var data = source.data;\n",
    "                        console.log('Tap event occurred at x-position: ' + cb_obj.active);\n",
    "                        //plot.title.text=cb_obj.value;\n",
    "                        x = data['x']\n",
    "                        y = data['y']\n",
    "                        if (cb_obj.active==0)\n",
    "                        {\n",
    "                            for (i = 0; i < x.length; i++) {\n",
    "                                y[i] = x[i];\n",
    "                                }\n",
    "                                }\n",
    "                                if (cb_obj.active==1)\n",
    "                                {\n",
    "                                    for (i = 0; i < x.length; i++) {\n",
    "                                        y[i] = Math.pow(x[i], 2)\n",
    "                                        }\n",
    "                                        }\n",
    "                                        if (cb_obj.active==2)\n",
    "                                        {\n",
    "                                            for (i = 0; i < x.length; i++) {\n",
    "                                                y[i] = Math.pow(x[i], 4)\n",
    "                                                }\n",
    "                                                }\n",
    "                                                source.change.emit();\n",
    "                                                \"\"\")\n",
    "\n",
    "selecthandler = CustomJS(args=dict(source=source), code=\"\"\"\n",
    "                         var data = source.data;\n",
    "                         console.log('Tap event occurred at x-position: ' + cb_obj.value);\n",
    "                         //plot.title.text=cb_obj.value;\n",
    "                         x = data['x']\n",
    "                         y = data['y']\n",
    "                         if (cb_obj.value==\"line\")\n",
    "                         {\n",
    "                             for (i = 0; i < x.length; i++) {\n",
    "                                 y[i] = x[i];\n",
    "                                 }\n",
    "                                 }\n",
    "                                 if (cb_obj.value==\"SquareCurve\")\n",
    "                                 {\n",
    "                                     for (i = 0; i < x.length; i++) {\n",
    "                                         y[i] = Math.pow(x[i], 2)\n",
    "                                         }\n",
    "                                         }\n",
    "                                         if (cb_obj.value==\"CubeCurve\")\n",
    "                                         {\n",
    "                                             for (i = 0; i < x.length; i++) {\n",
    "                                                 y[i] = Math.pow(x[i], 4)\n",
    "                                                 }\n",
    "                                                 }\n",
    "                                                 source.change.emit();\n",
    "                                                 \"\"\")\n",
    "\n",
    "radio = RadioGroup(\n",
    "\n",
    "labels=[\"line\", \"SqureCurve\", \"CubeCurve\"], active=0)\n",
    "\n",
    "radio.js_on_change('active', radiohandler)\n",
    "\n",
    "select = Select(title=\"Select:\", value='line', options=[\"line\", \"SquareCurve\", \"CubeCurve\"])\n",
    "select.js_on_change('value', selecthandler)\n",
    "\n",
    "layout = column(radio, select, plot)\n",
    "\n",
    "show(layout)\n",
    "                                         "
   ]
  },
  {
   "cell_type": "markdown",
   "metadata": {},
   "source": [
    "### Tab Widget"
   ]
  },
  {
   "cell_type": "code",
   "execution_count": null,
   "metadata": {},
   "outputs": [],
   "source": [
    "from bokeh.plotting import figure, output_file, show\n",
    "from bokeh.models import Panel, Tabs\n",
    "import numpy as np\n",
    "import math\n",
    "\n",
    "x=np.arange(0, math.pi*2, 0.05)\n",
    "\n",
    "fig1=figure(plot_width=300, plot_height=300)\n",
    "fig1.line(x, np.sin(x),line_width=2, line_color='navy')\n",
    "tab1 = Panel(child=fig1, title=\"sine\")\n",
    "\n",
    "fig2=figure(plot_width=300, plot_height=300)\n",
    "fig2.line(x,np.cos(x), line_width=2, line_color='orange')\n",
    "tab2 = Panel(child=fig2, title=\"cos\")\n",
    "\n",
    "tabs = Tabs(tabs=[ tab1, tab2 ])\n",
    "\n",
    "show(tabs)"
   ]
  },
  {
   "cell_type": "markdown",
   "metadata": {},
   "source": [
    "### End."
   ]
  }
 ],
 "metadata": {
  "kernelspec": {
   "display_name": "Python 3.10.5 64-bit",
   "language": "python",
   "name": "python3"
  },
  "language_info": {
   "codemirror_mode": {
    "name": "ipython",
    "version": 3
   },
   "file_extension": ".py",
   "mimetype": "text/x-python",
   "name": "python",
   "nbconvert_exporter": "python",
   "pygments_lexer": "ipython3",
   "version": "3.10.5"
  },
  "orig_nbformat": 4,
  "vscode": {
   "interpreter": {
    "hash": "74af3d2f25f1e46ebd2903d59225d79e4675ec224d56c01fc30cd168c2010d53"
   }
  }
 },
 "nbformat": 4,
 "nbformat_minor": 2
}
