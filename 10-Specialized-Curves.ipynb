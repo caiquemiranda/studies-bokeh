{
 "cells": [
  {
   "cell_type": "markdown",
   "metadata": {},
   "source": [
    "### beizer()"
   ]
  },
  {
   "cell_type": "code",
   "execution_count": null,
   "metadata": {},
   "outputs": [],
   "source": [
    "x=2\n",
    "y=4\n",
    "\n",
    "xp02=x+0.4\n",
    "xp01=x+0.1\n",
    "xm01=x-0.1\n",
    "yp01=y+0.2\n",
    "ym01=y-0.2\n",
    "\n",
    "fig=figure(plot_width=300, plot_height=300)\n",
    "\n",
    "fig.bezier(x0=x, y0=y, x1=xp02, y1=y, cx0=xp01, cy0=yp01,\n",
    "\n",
    "cx1=xm01, cy1=ym01, line_color=\"red\", line_width=2)"
   ]
  },
  {
   "cell_type": "markdown",
   "metadata": {},
   "source": [
    "### quadratic()"
   ]
  },
  {
   "cell_type": "code",
   "execution_count": null,
   "metadata": {},
   "outputs": [],
   "source": [
    "x=2\n",
    "y=4\n",
    "\n",
    "xp02=x+0.3\n",
    "xp01=x+0.2\n",
    "xm01=x-0.4\n",
    "yp01=y+0.1\n",
    "ym01=y-0.2\n",
    "\n",
    "x=x,\n",
    "y=y,\n",
    "\n",
    "xp02=x+0.4,\n",
    "xp01=x+0.1,\n",
    "yp01=y+0.2,\n",
    "\n",
    "fig.quadratic(x0=x, y0=y, x1=x+0.4, y1=y+0.01, cx=x+0.1,\n",
    "\n",
    "cy=y+0.2, line_color=\"blue\", line_width=3)"
   ]
  },
  {
   "cell_type": "markdown",
   "metadata": {},
   "source": [
    "### End."
   ]
  }
 ],
 "metadata": {
  "kernelspec": {
   "display_name": "Python 3.10.5 64-bit",
   "language": "python",
   "name": "python3"
  },
  "language_info": {
   "name": "python",
   "version": "3.10.5"
  },
  "orig_nbformat": 4,
  "vscode": {
   "interpreter": {
    "hash": "74af3d2f25f1e46ebd2903d59225d79e4675ec224d56c01fc30cd168c2010d53"
   }
  }
 },
 "nbformat": 4,
 "nbformat_minor": 2
}
