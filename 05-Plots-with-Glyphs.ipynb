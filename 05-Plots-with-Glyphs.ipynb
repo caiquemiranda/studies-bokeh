{
 "cells": [
  {
   "cell_type": "markdown",
   "metadata": {},
   "source": [
    "### Types of Plot"
   ]
  },
  {
   "cell_type": "markdown",
   "metadata": {},
   "source": [
    "- Line plot\n",
    "This type of plot is useful for visualizing the movements of points along the x-and y-axes in the form of a line. It is used to perform time series analytics.\n",
    "---\n",
    "- Bar plot\n",
    "This is typically useful for indicating the count of each category of a particular column or field in your dataset.\n",
    "---\n",
    "- Patch plot\n",
    "This plot indicates a region of points in a particular shade of color. This type of plot is used to distinguish different groups within the same dataset.\n",
    "---\n",
    "- Scatter plot\n",
    "This type of plot is used to visualize relationship between two variables and to indicate the strength of correlation between them."
   ]
  },
  {
   "cell_type": "code",
   "execution_count": null,
   "metadata": {},
   "outputs": [],
   "source": [
    "from bokeh.plotting import figure\n",
    "figure(**kwargs)"
   ]
  },
  {
   "cell_type": "markdown",
   "metadata": {},
   "source": [
    "### Line plot"
   ]
  },
  {
   "cell_type": "code",
   "execution_count": null,
   "metadata": {},
   "outputs": [],
   "source": [
    "from bokeh.plotting import figure, show\n",
    "\n",
    "fig=figure()\n",
    "fig.line(x,y)\n",
    "\n",
    "show(fig)"
   ]
  },
  {
   "cell_type": "code",
   "execution_count": null,
   "metadata": {},
   "outputs": [],
   "source": [
    "from bokeh.plotting import figure, output_file, show\n",
    "\n",
    "x=[1,2,3,4,5]\n",
    "y=[2,4,6,8,10]\n",
    "\n",
    "output_file('plots/cp05-line.html')\n",
    "\n",
    "fig=figure(title='Line Plot example', x_axis_label='x', y_axis_label='y')\n",
    "fig.line(x,y)\n",
    "\n",
    "show(fig)"
   ]
  },
  {
   "cell_type": "markdown",
   "metadata": {},
   "source": [
    "### Bar plot"
   ]
  },
  {
   "cell_type": "markdown",
   "metadata": {},
   "source": [
    "#### hbar()"
   ]
  },
  {
   "cell_type": "code",
   "execution_count": null,
   "metadata": {},
   "outputs": [],
   "source": [
    "from bokeh.plotting import figure, output_file, show\n",
    "\n",
    "fig = figure(plot_width=400, plot_height=200)\n",
    "fig.hbar(y=[2,4,6], height=1, left=0, right=[1,2,3], color=\"Cyan\")\n",
    "\n",
    "output_file('plots/cp05-hbar.html')\n",
    "\n",
    "show(fig)"
   ]
  },
  {
   "cell_type": "markdown",
   "metadata": {},
   "source": [
    "#### vbar()"
   ]
  },
  {
   "cell_type": "code",
   "execution_count": null,
   "metadata": {},
   "outputs": [],
   "source": [
    "from bokeh.plotting import figure, output_file, show\n",
    "\n",
    "fig = figure(plot_width=200, plot_height=400)\n",
    "fig.vbar(x=[1,2,3], width=0.5, bottom=0, top=[2,4,6], color=\"Cyan\")\n",
    "\n",
    "output_file('plots/cp05-vbar.html')\n",
    "\n",
    "show(fig)"
   ]
  },
  {
   "cell_type": "markdown",
   "metadata": {},
   "source": [
    "### Patch plot"
   ]
  },
  {
   "cell_type": "markdown",
   "metadata": {},
   "source": [
    "#### Patch"
   ]
  },
  {
   "cell_type": "code",
   "execution_count": null,
   "metadata": {},
   "outputs": [],
   "source": [
    "from bokeh.plotting import figure, output_file, show\n",
    "\n",
    "p = figure(plot_width=300, plot_height=300)\n",
    "p.patch(x=[1, 3,2,4], y=[2,3,5,7], color=\"green\")\n",
    "\n",
    "output_file('plots/cp05-patch.html')\n",
    "\n",
    "show(p)"
   ]
  },
  {
   "cell_type": "markdown",
   "metadata": {},
   "source": [
    "#### Patches"
   ]
  },
  {
   "cell_type": "code",
   "execution_count": null,
   "metadata": {},
   "outputs": [],
   "source": [
    "from bokeh.plotting import figure, output_file, show\n",
    "\n",
    "xs = [[5,3,4], [2,4,3], [2,3,5,4]]\n",
    "ys = [[6,4,2], [3,6,7], [2,4,7,8]]\n",
    "\n",
    "fig = figure()\n",
    "fig.patches(xs, ys, fill_color = ['red', 'blue', 'black'], line_color = 'white')\n",
    "\n",
    "output_file('plots/cp05-patchs.html')\n",
    "\n",
    "show(fig)"
   ]
  },
  {
   "cell_type": "markdown",
   "metadata": {},
   "source": [
    "### Scatter Markers"
   ]
  },
  {
   "cell_type": "code",
   "execution_count": null,
   "metadata": {},
   "outputs": [],
   "source": [
    "from bokeh.plotting import figure, output_file, show\n",
    "\n",
    "fig = figure()\n",
    "fig.scatter([1, 4, 3, 2, 5], [6, 5, 2, 4, 7], marker=\"circle\", size=20, fill_color=\"grey\")\n",
    "\n",
    "output_file('plots/cp05-scatter.html')\n",
    "\n",
    "show(fig)"
   ]
  },
  {
   "cell_type": "markdown",
   "metadata": {},
   "source": [
    "### End."
   ]
  }
 ],
 "metadata": {
  "kernelspec": {
   "display_name": "Python 3.10.5 64-bit",
   "language": "python",
   "name": "python3"
  },
  "language_info": {
   "name": "python",
   "version": "3.10.5"
  },
  "orig_nbformat": 4,
  "vscode": {
   "interpreter": {
    "hash": "74af3d2f25f1e46ebd2903d59225d79e4675ec224d56c01fc30cd168c2010d53"
   }
  }
 },
 "nbformat": 4,
 "nbformat_minor": 2
}
