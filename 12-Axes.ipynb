{
 "cells": [
  {
   "cell_type": "markdown",
   "metadata": {},
   "source": [
    "### Categorical Axes"
   ]
  },
  {
   "cell_type": "code",
   "execution_count": null,
   "metadata": {},
   "outputs": [],
   "source": [
    "langs=['C', 'C++', 'Java', 'Python', 'PHP']\n",
    "fig=figure(x_range=langs, plot_width=300, plot_height=300)"
   ]
  },
  {
   "cell_type": "code",
   "execution_count": null,
   "metadata": {},
   "outputs": [],
   "source": [
    "from bokeh.plotting import figure, output_file, show\n",
    "langs=['C', 'C++', 'Java', 'Python', 'PHP']\n",
    "students=[23,17,35,29,12]\n",
    "fig=figure(x_range=langs, plot_width=300, plot_height=300)\n",
    "fig.vbar(x=langs, top=students, width=0.5)\n",
    "show(fig)"
   ]
  },
  {
   "cell_type": "code",
   "execution_count": null,
   "metadata": {},
   "outputs": [],
   "source": [
    "cols=['red','green','orange','navy', 'cyan']\n",
    "fig.vbar(x=langs, top=students, color=cols,width=0.5)"
   ]
  },
  {
   "cell_type": "code",
   "execution_count": null,
   "metadata": {},
   "outputs": [],
   "source": [
    "from bokeh.plotting import figure, output_file, show\n",
    "\n",
    "products=['computer','mobile','printer']\n",
    "months=['Jan','Feb','Mar']\n",
    "sales={'products':products,\n",
    "       'Jan':[10,40,5],\n",
    "        'Feb':[8,45,10],\n",
    "        'Mar':[25,60,22]}\n",
    "\n",
    "cols=['red','green','blue']#,'navy', 'cyan']\n",
    "\n",
    "fig=figure(x_range=products, plot_width=300, plot_height=300)\n",
    "fig.vbar_stack(months, x='products', source=sales, color=cols,width=0.5)\n",
    "\n",
    "show(fig)"
   ]
  },
  {
   "cell_type": "code",
   "execution_count": null,
   "metadata": {},
   "outputs": [],
   "source": [
    "from bokeh.plotting import figure, output_file, show\n",
    "from bokeh.transform import dodge\n",
    "\n",
    "products=['computer','mobile','printer']\n",
    "months=['Jan','Feb','Mar']\n",
    "\n",
    "sales={'products':products,\n",
    "       'Jan':[10,40,5],\n",
    "        'Feb':[8,45,10],\n",
    "        'Mar':[25,60,22]}\n",
    "\n",
    "fig=figure(x_range=products, plot_width=300, plot_height=300)\n",
    "\n",
    "fig.vbar(x=dodge('products', -0.25, range=fig.x_range), top='Jan',\n",
    "width=0.2,source=sales, color=\"red\")\n",
    "\n",
    "fig.vbar(x=dodge('products', 0.0, range=fig.x_range), top='Feb',\n",
    "width=0.2, source=sales,color=\"green\")\n",
    "\n",
    "fig.vbar(x=dodge('products', 0.25, range=fig.x_range), top='Mar',\n",
    "width=0.2,source=sales,color=\"blue\")\n",
    "\n",
    "show(fig)"
   ]
  },
  {
   "cell_type": "markdown",
   "metadata": {},
   "source": [
    "### Log Scale Axes"
   ]
  },
  {
   "cell_type": "code",
   "execution_count": null,
   "metadata": {},
   "outputs": [],
   "source": [
    "from bokeh.plotting import figure, output_file, show\n",
    "x = [0.1, 0.5, 1.0, 1.5, 2.0, 2.5, 3.0]\n",
    "y = [10**i for i in x]\n",
    "fig = figure(title='Linear scale example',plot_width=400, plot_height=400)\n",
    "fig.line(x, y, line_width=2)\n",
    "show(fig)"
   ]
  },
  {
   "cell_type": "code",
   "execution_count": null,
   "metadata": {},
   "outputs": [],
   "source": [
    "fig=figure(title='Linear scale example',\n",
    "           plot_width=400, \n",
    "           plot_height=400, \n",
    "           y_axis_type=\"log\")"
   ]
  },
  {
   "cell_type": "markdown",
   "metadata": {},
   "source": [
    "### Twin Axes"
   ]
  },
  {
   "cell_type": "code",
   "execution_count": null,
   "metadata": {},
   "outputs": [],
   "source": [
    "from numpy import pi, arange, sin, linspace\n",
    "x = arange(-2*pi, 2*pi, 0.1)\n",
    "y = sin(x)\n",
    "y2 = linspace(0, 100, len(y))"
   ]
  },
  {
   "cell_type": "code",
   "execution_count": null,
   "metadata": {},
   "outputs": [],
   "source": [
    "fig = figure(title='Twin Axis Example', y_range=(-1.1, 1.1))\n",
    "fig.line(x, y, color=\"red\")"
   ]
  },
  {
   "cell_type": "code",
   "execution_count": null,
   "metadata": {},
   "outputs": [],
   "source": [
    "fig.extra_y_ranges = {\"y2\": Range1d(start=0, end=100)}"
   ]
  },
  {
   "cell_type": "code",
   "execution_count": null,
   "metadata": {},
   "outputs": [],
   "source": [
    "fig.add_layout(LinearAxis(y_range_name=\"y2\"), 'right')\n",
    "fig.line(x, y2, color=\"blue\", y_range_name=\"y2\")"
   ]
  },
  {
   "cell_type": "code",
   "execution_count": null,
   "metadata": {},
   "outputs": [],
   "source": [
    "from numpy import pi, arange, sin, linspace\n",
    "\n",
    "x = arange(-2*pi, 2*pi, 0.1)\n",
    "y = sin(x)\n",
    "y2 = linspace(0, 100, len(y))\n",
    "\n",
    "from bokeh.plotting import output_file, figure, show\n",
    "from bokeh.models import LinearAxis, Range1d\n",
    "\n",
    "fig = figure(title='Twin Axis Example', y_range=(-1.1, 1.1))\n",
    "fig.line(x, y, color=\"red\")\n",
    "fig.extra_y_ranges = {\"y2\": Range1d(start=0, end=100)}\n",
    "fig.add_layout(LinearAxis(y_range_name=\"y2\"), 'right')\n",
    "fig.line(x, y2, color=\"blue\", y_range_name=\"y2\")\n",
    "\n",
    "show(fig)"
   ]
  },
  {
   "cell_type": "markdown",
   "metadata": {},
   "source": [
    "### End."
   ]
  }
 ],
 "metadata": {
  "kernelspec": {
   "display_name": "Python 3.10.5 64-bit",
   "language": "python",
   "name": "python3"
  },
  "language_info": {
   "codemirror_mode": {
    "name": "ipython",
    "version": 3
   },
   "file_extension": ".py",
   "mimetype": "text/x-python",
   "name": "python",
   "nbconvert_exporter": "python",
   "pygments_lexer": "ipython3",
   "version": "3.10.5"
  },
  "orig_nbformat": 4,
  "vscode": {
   "interpreter": {
    "hash": "74af3d2f25f1e46ebd2903d59225d79e4675ec224d56c01fc30cd168c2010d53"
   }
  }
 },
 "nbformat": 4,
 "nbformat_minor": 2
}
