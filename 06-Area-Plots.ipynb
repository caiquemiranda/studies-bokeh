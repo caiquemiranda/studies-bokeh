{
 "cells": [
  {
   "cell_type": "markdown",
   "metadata": {},
   "source": [
    "### Varea()"
   ]
  },
  {
   "cell_type": "code",
   "execution_count": null,
   "metadata": {},
   "outputs": [],
   "source": [
    "from bokeh.plotting import figure, output_file, show\n",
    "\n",
    "fig = figure()\n",
    "\n",
    "x=[1, 2, 3, 4, 5]\n",
    "y1=[2, 6, 4, 3, 5]\n",
    "y2=[1, 4, 2, 2, 3]\n",
    "\n",
    "fig.varea(x=x,y1=y1,y2=y2)\n",
    "\n",
    "output_file('plots/cp06-varea.html')\n",
    "\n",
    "show(fig)"
   ]
  },
  {
   "cell_type": "markdown",
   "metadata": {},
   "source": [
    "### harea()"
   ]
  },
  {
   "cell_type": "code",
   "execution_count": null,
   "metadata": {},
   "outputs": [],
   "source": [
    "from bokeh.plotting import figure, output_file, show\n",
    "\n",
    "fig = figure()\n",
    "\n",
    "y=[1, 2, 3, 4, 5]\n",
    "x1=[2, 6, 4, 3, 5]\n",
    "x2=[1, 4, 2, 2, 3]\n",
    "\n",
    "fig.harea(x1=x1,x2=x2,y=y)\n",
    "\n",
    "output_file('plots/cp06-harea.html')\n",
    "\n",
    "show(fig)"
   ]
  },
  {
   "cell_type": "markdown",
   "metadata": {},
   "source": [
    "### End."
   ]
  }
 ],
 "metadata": {
  "language_info": {
   "name": "python"
  },
  "orig_nbformat": 4
 },
 "nbformat": 4,
 "nbformat_minor": 2
}
