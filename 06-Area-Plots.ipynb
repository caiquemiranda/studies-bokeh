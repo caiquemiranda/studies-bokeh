{
 "cells": [
  {
   "cell_type": "markdown",
   "metadata": {},
   "source": [
    "### Varea()"
   ]
  },
  {
   "cell_type": "code",
   "execution_count": null,
   "metadata": {},
   "outputs": [],
   "source": [
    "from bokeh.plotting import figure, output_file, show\n",
    "\n",
    "fig = figure()\n",
    "\n",
    "x=[1, 2, 3, 4, 5]\n",
    "y1=[2, 6, 4, 3, 5]\n",
    "y2=[1, 4, 2, 2, 3]\n",
    "\n",
    "fig.varea(x=x,y1=y1,y2=y2)\n",
    "\n",
    "output_file('plots/cp06-varea.html')\n",
    "\n",
    "show(fig)"
   ]
  },
  {
   "cell_type": "markdown",
   "metadata": {},
   "source": [
    "### harea()"
   ]
  },
  {
   "cell_type": "code",
   "execution_count": null,
   "metadata": {},
   "outputs": [],
   "source": [
    "from bokeh.plotting import figure, output_file, show\n",
    "\n",
    "fig = figure()\n",
    "\n",
    "y=[1, 2, 3, 4, 5]\n",
    "x1=[2, 6, 4, 3, 5]\n",
    "x2=[1, 4, 2, 2, 3]\n",
    "\n",
    "fig.harea(x1=x1,x2=x2,y=y)\n",
    "\n",
    "output_file('plots/cp06-harea.html')\n",
    "\n",
    "show(fig)"
   ]
  },
  {
   "cell_type": "markdown",
   "metadata": {},
   "source": [
    "### End."
   ]
  }
 ],
 "metadata": {
  "kernelspec": {
   "display_name": "Python 3.10.5 64-bit",
   "language": "python",
   "name": "python3"
  },
  "language_info": {
   "name": "python",
   "version": "3.10.5"
  },
  "orig_nbformat": 4,
  "vscode": {
   "interpreter": {
    "hash": "74af3d2f25f1e46ebd2903d59225d79e4675ec224d56c01fc30cd168c2010d53"
   }
  }
 },
 "nbformat": 4,
 "nbformat_minor": 2
}
