{
 "cells": [
  {
   "cell_type": "code",
   "execution_count": null,
   "metadata": {},
   "outputs": [],
   "source": [
    "from bokeh.plotting import figure, output_file, show\n",
    "\n",
    "plot = figure(plot_width=300, plot_height=300)\n",
    "\n",
    "plot.circle(x=[1, 2, 3], y=[3,7,5], size=20, fill_color='red')\n",
    "plot.circle_cross(x=[2,4,6], y=[5,8,9], size=20, fill_color='blue',fill_alpha=0.2, line_width=2)\n",
    "plot.circle_x(x=[5,7,2], y=[2,4,9], size=20, fill_color='green',fill_alpha=0.6, line_width=2)\n",
    "\n",
    "output_file('plots/cp07-circle-glyphs.html')\n",
    "show(plot)"
   ]
  },
  {
   "cell_type": "markdown",
   "metadata": {},
   "source": [
    "### End."
   ]
  }
 ],
 "metadata": {
  "kernelspec": {
   "display_name": "Python 3.10.5 64-bit",
   "language": "python",
   "name": "python3"
  },
  "language_info": {
   "name": "python",
   "version": "3.10.5"
  },
  "orig_nbformat": 4,
  "vscode": {
   "interpreter": {
    "hash": "74af3d2f25f1e46ebd2903d59225d79e4675ec224d56c01fc30cd168c2010d53"
   }
  }
 },
 "nbformat": 4,
 "nbformat_minor": 2
}
