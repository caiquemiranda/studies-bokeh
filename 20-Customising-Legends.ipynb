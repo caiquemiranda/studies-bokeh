{
 "cells": [
  {
   "cell_type": "code",
   "execution_count": null,
   "metadata": {},
   "outputs": [],
   "source": [
    "from bokeh.plotting import figure, output_file, show\n",
    "import math\n",
    "\n",
    "x2=list(range(1,11))\n",
    "y4=[math.pow(i,2) for i in x2]\n",
    "y2=[math.log10(pow(10,i)) for i in x2]\n",
    "\n",
    "fig = figure(y_axis_type='log')\n",
    "fig.circle(x2, y2,size=5, color='blue', legend='blue circle')\n",
    "fig.line(x2,y4, line_width=2, line_color='red', legend='red line')\n",
    "\n",
    "fig.legend.location='top_left'\n",
    "fig.legend.title='Legend Title'\n",
    "fig.legend.title_text_font='Arial'\n",
    "fig.legend.title_text_font_size='20pt'\n",
    "\n",
    "show(fig)"
   ]
  },
  {
   "cell_type": "markdown",
   "metadata": {},
   "source": [
    "### End."
   ]
  }
 ],
 "metadata": {
  "kernelspec": {
   "display_name": "Python 3.10.5 64-bit",
   "language": "python",
   "name": "python3"
  },
  "language_info": {
   "codemirror_mode": {
    "name": "ipython",
    "version": 3
   },
   "file_extension": ".py",
   "mimetype": "text/x-python",
   "name": "python",
   "nbconvert_exporter": "python",
   "pygments_lexer": "ipython3",
   "version": "3.10.5"
  },
  "orig_nbformat": 4,
  "vscode": {
   "interpreter": {
    "hash": "74af3d2f25f1e46ebd2903d59225d79e4675ec224d56c01fc30cd168c2010d53"
   }
  }
 },
 "nbformat": 4,
 "nbformat_minor": 2
}
