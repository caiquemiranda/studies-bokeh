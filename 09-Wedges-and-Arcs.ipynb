{
 "cells": [
  {
   "cell_type": "code",
   "execution_count": null,
   "metadata": {},
   "outputs": [],
   "source": [
    "from bokeh.plotting import figure, output_file, show\n",
    "import math\n",
    "\n",
    "fig = figure(plot_width=300, plot_height=300)\n",
    "fig.arc(x=3, y=3, radius=50, radius_units='screen', start_angle=0.0, end_angle=math.pi/2)\n",
    "fig.wedge(x=3, y=3, radius=30, radius_units='screen',\n",
    "\n",
    "start_angle=0, end_angle=math.pi, direction='clock')\n",
    "fig.annular_wedge(x=3,y=3, inner_radius=100, outer_radius=75,outer_radius_units='screen',\n",
    "\n",
    "inner_radius_units='screen',start_angle=0.4, end_angle=4.5,color=\"green\", alpha=0.6)\n",
    "\n",
    "output_file('plots/cp09-wedges-arcs')\n",
    "show(fig)"
   ]
  },
  {
   "cell_type": "markdown",
   "metadata": {},
   "source": [
    "### End."
   ]
  }
 ],
 "metadata": {
  "kernelspec": {
   "display_name": "Python 3.10.5 64-bit",
   "language": "python",
   "name": "python3"
  },
  "language_info": {
   "codemirror_mode": {
    "name": "ipython",
    "version": 3
   },
   "file_extension": ".py",
   "mimetype": "text/x-python",
   "name": "python",
   "nbconvert_exporter": "python",
   "pygments_lexer": "ipython3",
   "version": "3.10.5"
  },
  "orig_nbformat": 4,
  "vscode": {
   "interpreter": {
    "hash": "74af3d2f25f1e46ebd2903d59225d79e4675ec224d56c01fc30cd168c2010d53"
   }
  }
 },
 "nbformat": 4,
 "nbformat_minor": 2
}
