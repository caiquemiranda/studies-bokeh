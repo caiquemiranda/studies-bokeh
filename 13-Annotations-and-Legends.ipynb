{
 "cells": [
  {
   "cell_type": "code",
   "execution_count": null,
   "metadata": {},
   "outputs": [],
   "source": [
    "fig=figure(title, x_axis_label, y_axis_label)"
   ]
  },
  {
   "cell_type": "code",
   "execution_count": null,
   "metadata": {},
   "outputs": [],
   "source": [
    "import numpy as np\n",
    "import math\n",
    "x=np.arange(0, math.pi*2, 0.05)\n",
    "y=np.sin(x)\n",
    "fig = figure(title=\"sine wave example\", x_axis_label='angle', y_axis_label='sin')\n",
    "fig.line(x, y,line_width=2)\n",
    "show(p)"
   ]
  },
  {
   "cell_type": "code",
   "execution_count": null,
   "metadata": {},
   "outputs": [],
   "source": [
    "fig.title.text=\"sine wave example\"\n",
    "fig.xaxis.axis_label='angle'\n",
    "fig.yaxis.axis_label='sin'\n",
    "fig.title.align = \"right\"\n",
    "fig.title.text_color = \"orange\"\n",
    "fig.title.text_font_size = \"25px\"\n",
    "fig.title.background_fill_color = \"blue\"\n",
    "\n",
    "from bokeh.plotting import figure, output_file, show\n",
    "import numpy as np\n",
    "import math\n",
    "\n",
    "x=np.arange(0, math.pi*2, 0.05)\n",
    "fig=figure()\n",
    "fig.line(x, np.sin(x),line_width=2, line_color='navy', legend='sine')\n",
    "fig.circle(x,np.cos(x), line_width=2, line_color='orange', legend='cosine')\n",
    "fig.square(x,-np.sin(x),line_width=2, line_color='grey', legend='-sine')\n",
    "show(fig)"
   ]
  },
  {
   "cell_type": "markdown",
   "metadata": {},
   "source": [
    "### End."
   ]
  }
 ],
 "metadata": {
  "kernelspec": {
   "display_name": "Python 3.10.5 64-bit",
   "language": "python",
   "name": "python3"
  },
  "language_info": {
   "codemirror_mode": {
    "name": "ipython",
    "version": 3
   },
   "file_extension": ".py",
   "mimetype": "text/x-python",
   "name": "python",
   "nbconvert_exporter": "python",
   "pygments_lexer": "ipython3",
   "version": "3.10.5"
  },
  "orig_nbformat": 4,
  "vscode": {
   "interpreter": {
    "hash": "74af3d2f25f1e46ebd2903d59225d79e4675ec224d56c01fc30cd168c2010d53"
   }
  }
 },
 "nbformat": 4,
 "nbformat_minor": 2
}
