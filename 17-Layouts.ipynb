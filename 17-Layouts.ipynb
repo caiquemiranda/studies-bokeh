{
 "cells": [
  {
   "cell_type": "code",
   "execution_count": null,
   "metadata": {},
   "outputs": [],
   "source": [
    "from bokeh.layouts import column\n",
    "col=column(children, sizing_mode)"
   ]
  },
  {
   "cell_type": "code",
   "execution_count": null,
   "metadata": {},
   "outputs": [],
   "source": [
    "from bokeh.plotting import figure, output_file, show\n",
    "from bokeh.layouts import column\n",
    "import numpy as np\n",
    "import math\n",
    "\n",
    "x=np.arange(0, math.pi*2, 0.05)\n",
    "y1=np.sin(x)\n",
    "y2=np.cos(x)\n",
    "\n",
    "fig1 = figure(plot_width=200, plot_height=200)\n",
    "fig1.line(x, y1,line_width=2, line_color='blue')\n",
    "fig2 = figure(plot_width=200, plot_height=200)\n",
    "fig2.line(x, y2,line_width=2, line_color='red')\n",
    "\n",
    "c=column(children=[fig1, fig2], sizing_mode='stretch_both')\n",
    "\n",
    "show(c)"
   ]
  },
  {
   "cell_type": "code",
   "execution_count": null,
   "metadata": {},
   "outputs": [],
   "source": [
    "from bokeh.plotting import figure, output_file, show\n",
    "from bokeh.layouts import row\n",
    "import numpy as np\n",
    "import math\n",
    "\n",
    "x=np.arange(0, math.pi*2, 0.05)\n",
    "\n",
    "y1=np.sin(x)\n",
    "y2=np.cos(x)\n",
    "\n",
    "fig1 = figure(plot_width=200, plot_height=200)\n",
    "fig1.line(x, y1,line_width=2, line_color='blue')\n",
    "fig2 = figure(plot_width=200, plot_height=200)\n",
    "fig2.line(x, y2,line_width=2, line_color='red')\n",
    "\n",
    "r=row(children=[fig1, fig2], sizing_mode='stretch_both')\n",
    "\n",
    "show(r)"
   ]
  },
  {
   "cell_type": "code",
   "execution_count": null,
   "metadata": {},
   "outputs": [],
   "source": [
    "from bokeh.plotting import figure, output_file, show\n",
    "from bokeh.layouts import gridplot\n",
    "import math\n",
    "\n",
    "x=list(range(1,11))\n",
    "\n",
    "y1=x\n",
    "y2=[11-i for i in x]\n",
    "y3=[i*i for i in x]\n",
    "y4=[math.log10(i) for i in x]\n",
    "\n",
    "fig1 = figure(plot_width=200, plot_height=200)\n",
    "fig1.line(x, y1,line_width=2, line_color='blue')\n",
    "fig2 = figure(plot_width=200, plot_height=200)\n",
    "fig2.circle(x, y2,size=10, color='green')\n",
    "fig3=figure(plot_width=200, plot_height=200)\n",
    "fig3.circle(x,y3, size=10, color='grey')\n",
    "fig4=figure(plot_width=200, plot_height=200, y_axis_type='log')\n",
    "fig4.line(x,y4, line_width=2, line_color='red')\n",
    "\n",
    "grid = gridplot(children=[[fig1, fig2], [fig3,fig4]], sizing_mode='stretch_both')\n",
    "\n",
    "show(grid)"
   ]
  },
  {
   "cell_type": "markdown",
   "metadata": {},
   "source": [
    "### End."
   ]
  }
 ],
 "metadata": {
  "kernelspec": {
   "display_name": "Python 3.10.5 64-bit",
   "language": "python",
   "name": "python3"
  },
  "language_info": {
   "codemirror_mode": {
    "name": "ipython",
    "version": 3
   },
   "file_extension": ".py",
   "mimetype": "text/x-python",
   "name": "python",
   "nbconvert_exporter": "python",
   "pygments_lexer": "ipython3",
   "version": "3.10.5"
  },
  "orig_nbformat": 4,
  "vscode": {
   "interpreter": {
    "hash": "74af3d2f25f1e46ebd2903d59225d79e4675ec224d56c01fc30cd168c2010d53"
   }
  }
 },
 "nbformat": 4,
 "nbformat_minor": 2
}
