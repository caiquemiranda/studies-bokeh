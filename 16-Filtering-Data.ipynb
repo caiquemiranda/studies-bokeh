{
 "cells": [
  {
   "cell_type": "code",
   "execution_count": null,
   "metadata": {},
   "outputs": [],
   "source": [
    "from bokeh.models import ColumnDataSource, CDSView, IndexFilter\n",
    "from bokeh.plotting import figure, output_file, show\n",
    "\n",
    "source = ColumnDataSource(data=dict(x=list(range(1,11)), y=list(range(2,22,2))))\n",
    "view = CDSView(source=source, filters=[IndexFilter([0, 2, 4,6])])\n",
    "\n",
    "fig=figure(title='Line Plot example', x_axis_label='x', y_axis_label='y')\n",
    "fig.circle(x=\"x\", y=\"y\", size=10, source=source, view=view, legend='filtered')\n",
    "fig.line(source.data['x'],source.data['y'], legend='unfiltered')\n",
    "\n",
    "show(fig)"
   ]
  },
  {
   "cell_type": "code",
   "execution_count": null,
   "metadata": {},
   "outputs": [],
   "source": [
    "from bokeh.models import ColumnDataSource, CDSView, BooleanFilter\n",
    "from bokeh.plotting import figure, show\n",
    "from bokeh.sampledata.unemployment1948 import data\n",
    "\n",
    "source = ColumnDataSource(data)\n",
    "booleans = [True if int(year) >= 1980 else False for year in\n",
    "source.data['Year']]"
   ]
  },
  {
   "cell_type": "code",
   "execution_count": null,
   "metadata": {},
   "outputs": [],
   "source": [
    "print (booleans)\n",
    "view1 = CDSView(source=source, filters=[BooleanFilter(booleans)])\n",
    "p = figure(title=\"Unemployment data\", x_range=(1980,2020), x_axis_label='Year', y_axis_label='Percentage')\n",
    "p.line(x='Year', y='Annual', source=source, view=view1, color='red', line_width=2)\n",
    "show(p)"
   ]
  },
  {
   "cell_type": "code",
   "execution_count": null,
   "metadata": {},
   "outputs": [],
   "source": [
    "from bokeh.models import ColumnDataSource, CDSView, CustomJSFilter\n",
    "from bokeh.plotting import figure, show\n",
    "from bokeh.sampledata.unemployment1948 import data\n",
    "\n",
    "\n",
    "source = ColumnDataSource(data)\n",
    "custom_filter = CustomJSFilter(code='''\n",
    "                               var indices = [];\n",
    "                               for (var i = 0; i < source.get_length(); i++){\n",
    "                                   \n",
    "                                   if (parseInt(source.data['Year'][i]) >= 1980){\n",
    "                                       indices.push(true);\n",
    "                                   \n",
    "                                   } else {\n",
    "                                       indices.push(false);\n",
    "                                   \n",
    "                                   }\n",
    "                                }\n",
    "                                return indices;\n",
    "                                ''')\n",
    "\n",
    "view1 = CDSView(source=source, filters=[custom_filter])\n",
    "\n",
    "p = figure(title=\"Unemployment data\", x_range=(1980,2020), x_axis_label='Year', y_axis_label='Percentage')\n",
    "p.line(x='Year', y='Annual', source=source, view=view1, color='red', line_width=2)\n",
    "\n",
    "show(p)"
   ]
  },
  {
   "cell_type": "markdown",
   "metadata": {},
   "source": [
    "### End."
   ]
  }
 ],
 "metadata": {
  "kernelspec": {
   "display_name": "Python 3.10.5 64-bit",
   "language": "python",
   "name": "python3"
  },
  "language_info": {
   "codemirror_mode": {
    "name": "ipython",
    "version": 3
   },
   "file_extension": ".py",
   "mimetype": "text/x-python",
   "name": "python",
   "nbconvert_exporter": "python",
   "pygments_lexer": "ipython3",
   "version": "3.10.5"
  },
  "orig_nbformat": 4,
  "vscode": {
   "interpreter": {
    "hash": "74af3d2f25f1e46ebd2903d59225d79e4675ec224d56c01fc30cd168c2010d53"
   }
  }
 },
 "nbformat": 4,
 "nbformat_minor": 2
}
