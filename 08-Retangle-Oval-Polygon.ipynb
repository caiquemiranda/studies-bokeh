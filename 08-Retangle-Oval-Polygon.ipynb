{
 "cells": [
  {
   "cell_type": "code",
   "execution_count": null,
   "metadata": {},
   "outputs": [],
   "source": [
    "from bokeh.plotting import figure, output_file, show\n",
    "\n",
    "fig = figure(plot_width=300, plot_height=300)\n",
    "\n",
    "fig.rect(x=10,y=10,width=100, height=50, width_units='screen', height_units='screen')\n",
    "fig.square(x=2,y=3,size=80, color='red')\n",
    "fig.ellipse(x=7,y=6, width=30, height=10, fill_color=None, line_width=2)\n",
    "fig.oval(x=6,y=6,width=2, height=1, angle=-0.4)\n",
    "\n",
    "output_file('plots/cp08-retangle-oval-polygon.html')\n",
    "\n",
    "show(fig)"
   ]
  },
  {
   "cell_type": "markdown",
   "metadata": {},
   "source": [
    "### End."
   ]
  }
 ],
 "metadata": {
  "kernelspec": {
   "display_name": "Python 3.10.5 64-bit",
   "language": "python",
   "name": "python3"
  },
  "language_info": {
   "name": "python",
   "version": "3.10.5"
  },
  "orig_nbformat": 4,
  "vscode": {
   "interpreter": {
    "hash": "74af3d2f25f1e46ebd2903d59225d79e4675ec224d56c01fc30cd168c2010d53"
   }
  }
 },
 "nbformat": 4,
 "nbformat_minor": 2
}
