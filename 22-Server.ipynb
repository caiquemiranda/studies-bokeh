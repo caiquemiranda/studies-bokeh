{
 "cells": [
  {
   "cell_type": "code",
   "execution_count": null,
   "metadata": {},
   "outputs": [],
   "source": [
    "import numpy as np\n",
    "from bokeh.io import curdoc\n",
    "from bokeh.layouts import row, column\n",
    "from bokeh.models import ColumnDataSource\n",
    "from bokeh.models.widgets import Slider, TextInput\n",
    "from bokeh.plotting import figure\n",
    "\n",
    "N = 200\n",
    "x = np.linspace(0, 4*np.pi, N)\n",
    "y = np.sin(x)\n",
    "\n",
    "source = ColumnDataSource(data=dict(x=x, y=y))\n",
    "plot = figure(plot_height=400, plot_width=400, title=\"sine wave\")\n",
    "plot.line('x', 'y', source=source, line_width=3, line_alpha=0.6)\n",
    "freq = Slider(title=\"frequency\", value=1.0, start=0.1, end=5.1, step=0.1)\n",
    "\n",
    "def update_data(attrname, old, new):\n",
    "    a = 1\n",
    "    b = 0\n",
    "    w = 0\n",
    "    k = freq.value\n",
    "    x = np.linspace(0, 4*np.pi, N)\n",
    "    y = a*np.sin(k*x + w) + b\n",
    "    source.data = dict(x=x, y=y)\n",
    "\n",
    "freq.on_change('value', update_data)\n",
    "\n",
    "curdoc().add_root(row(freq, plot, width=500))\n",
    "\n",
    "curdoc().title = \"Sliders\""
   ]
  },
  {
   "cell_type": "code",
   "execution_count": null,
   "metadata": {},
   "outputs": [],
   "source": [
    "# Bokeh serve –show sliders.py"
   ]
  },
  {
   "cell_type": "markdown",
   "metadata": {},
   "source": [
    "### End."
   ]
  }
 ],
 "metadata": {
  "kernelspec": {
   "display_name": "Python 3.10.5 64-bit",
   "language": "python",
   "name": "python3"
  },
  "language_info": {
   "codemirror_mode": {
    "name": "ipython",
    "version": 3
   },
   "file_extension": ".py",
   "mimetype": "text/x-python",
   "name": "python",
   "nbconvert_exporter": "python",
   "pygments_lexer": "ipython3",
   "version": "3.10.5"
  },
  "orig_nbformat": 4,
  "vscode": {
   "interpreter": {
    "hash": "74af3d2f25f1e46ebd2903d59225d79e4675ec224d56c01fc30cd168c2010d53"
   }
  }
 },
 "nbformat": 4,
 "nbformat_minor": 2
}
